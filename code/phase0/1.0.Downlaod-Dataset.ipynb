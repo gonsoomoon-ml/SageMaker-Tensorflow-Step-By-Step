{
 "cells": [
  {
   "cell_type": "markdown",
   "id": "111adc69",
   "metadata": {},
   "source": [
    "# [Module 1.0] Cifar10 데이터 세트 다운로드 및 TFRecord 생성\n",
    "\n",
    "본 워크샵의 모든 노트북은 **<font color=\"red\">conda_tensorflow2_p36</font>** 를 사용합니다."
   ]
  },
  {
   "cell_type": "markdown",
   "id": "0db490e0",
   "metadata": {},
   "source": [
    "# 1. 기본 세팅\n",
    "- 텐서플로우 버전을 2.4.1 인지 확인 합니다."
   ]
  },
  {
   "cell_type": "code",
   "execution_count": 1,
   "id": "bc8acd96",
   "metadata": {},
   "outputs": [
    {
     "name": "stdout",
     "output_type": "stream",
     "text": [
      "2.4.1\n"
     ]
    }
   ],
   "source": [
    "import tensorflow as tf\n",
    "print(tf.__version__)"
   ]
  },
  {
   "cell_type": "markdown",
   "id": "768a9a70",
   "metadata": {},
   "source": [
    "# 2. 전처리 유틸리티 함수"
   ]
  },
  {
   "cell_type": "code",
   "execution_count": 2,
   "id": "4c6973e4",
   "metadata": {},
   "outputs": [],
   "source": [
    "import argparse\n",
    "import os\n",
    "import sys\n",
    "\n",
    "import tarfile\n",
    "from six.moves import cPickle as pickle\n",
    "from six.moves import xrange  # pylint: disable=redefined-builtin\n",
    "import tensorflow as tf\n",
    "\n",
    "CIFAR_FILENAME = 'cifar-10-python.tar.gz'\n",
    "CIFAR_DOWNLOAD_URL = 'https://www.cs.toronto.edu/~kriz/' + CIFAR_FILENAME\n",
    "CIFAR_LOCAL_FOLDER = 'cifar-10-batches-py'\n",
    "\n",
    "\n",
    "def download_and_extract(data_dir):\n",
    "    '''\n",
    "    Cifar10 데이타를 다운로드하고, 압축을 푼다.\n",
    "    '''\n",
    "    # 인자로 입력되는 경로의 폴더 생성\n",
    "    file_dir = os.path.join(os.getcwd(), data_dir)\n",
    "    os.makedirs(file_dir, exist_ok=True)\n",
    "    print(\"data folder: \", file_dir)\n",
    "    \n",
    "    file_dir = os.path.join(file_dir,CIFAR_FILENAME)\n",
    "    # 해당 파일을 다운로드 함.\n",
    "    download_dir = tf.keras.utils.get_file(fname=file_dir, origin=CIFAR_DOWNLOAD_URL)\n",
    "\n",
    "    # 압추 해제\n",
    "    response = tarfile.open(download_dir,\n",
    "               'r:gz').extractall(data_dir)\n",
    "\n",
    "def _get_file_names():\n",
    "    '''\n",
    "    train, validataion, eval 의 데이터 세트의 파일 이름을 제공 함\n",
    "    '''\n",
    "    file_names = {}\n",
    "    file_names['train'] = ['data_batch_%d' % i for i in xrange(1, 5)]\n",
    "    file_names['validation'] = ['data_batch_5']\n",
    "    file_names['eval'] = ['test_batch']\n",
    "    return file_names\n",
    "\n",
    "    \n",
    "def read_pickle_from_file(filename):\n",
    "    '''\n",
    "    pickle 파일 일기\n",
    "    '''\n",
    "    with tf.io.gfile.GFile(filename, 'rb') as f:    \n",
    "        if sys.version_info >= (3, 0):\n",
    "            data_dict = pickle.load(f, encoding='bytes')\n",
    "        else:\n",
    "            data_dict = pickle.load(f)\n",
    "    return data_dict\n",
    "\n",
    "def _int64_feature(value):\n",
    "    return tf.train.Feature(int64_list=tf.train.Int64List(value=[value]))\n",
    "\n",
    "\n",
    "def _bytes_feature(value):\n",
    "    return tf.train.Feature(bytes_list=tf.train.BytesList(value=[value]))\n",
    "\n",
    "\n",
    "\n",
    "def convert_to_tfrecord(input_files, output_file):\n",
    "    \"\"\"\n",
    "    pickle 파일을 읽어서 TFRecord로 저장한다.\n",
    "    \"\"\"\n",
    "    print('Generating %s' % output_file)\n",
    "    with tf.io.TFRecordWriter(output_file) as record_writer:\n",
    "        # pickle 파일을 읽어서, data, labels 의 값을 추출\n",
    "        for input_file in input_files:\n",
    "            data_dict = read_pickle_from_file(input_file)\n",
    "            data = data_dict[b'data']\n",
    "            labels = data_dict[b'labels']\n",
    "\n",
    "            num_entries_in_batch = len(labels)\n",
    "            print(\"num_entries_in_batch: \", num_entries_in_batch)\n",
    "            \n",
    "        # 한개의 이미지씩 data, labels를 bytes, int 로 직렬화하여 TF Example 을 만든다\n",
    "        # Example 을 TFRcord  로 저장한다\n",
    "        for i in range(num_entries_in_batch):\n",
    "            example = tf.train.Example(features=tf.train.Features(\n",
    "                feature={\n",
    "                    'image': _bytes_feature(data[i].tobytes()),\n",
    "                    'label': _int64_feature(labels[i])\n",
    "                }))\n",
    "            record_writer.write(example.SerializeToString())\n"
   ]
  },
  {
   "cell_type": "markdown",
   "id": "4b59214c",
   "metadata": {},
   "source": [
    "# 3. 데이타 다운 로드 및 압축 풀기"
   ]
  },
  {
   "cell_type": "code",
   "execution_count": 3,
   "id": "6d6d3753",
   "metadata": {},
   "outputs": [
    {
     "name": "stdout",
     "output_type": "stream",
     "text": [
      "Download from https://www.cs.toronto.edu/~kriz/cifar-10-python.tar.gz and extract.\n",
      "data folder:  /home/ec2-user/SageMaker/SageMaker-Tensorflow-Step-By-Step/code/phase0/data/cifar10\n"
     ]
    },
    {
     "data": {
      "text/plain": [
       "['cifar-10-python.tar.gz',\n",
       " 'cifar-10-batches-py',\n",
       " 'validation',\n",
       " 'train',\n",
       " 'eval',\n",
       " '.ipynb_checkpoints']"
      ]
     },
     "execution_count": 3,
     "metadata": {},
     "output_type": "execute_result"
    }
   ],
   "source": [
    "import os\n",
    "\n",
    "data_dir = 'data/cifar10'\n",
    "print('Download from {} and extract.'.format(CIFAR_DOWNLOAD_URL))\n",
    "download_and_extract(data_dir)\n",
    "os.listdir(data_dir)\n"
   ]
  },
  {
   "cell_type": "code",
   "execution_count": 4,
   "id": "ae12b991",
   "metadata": {},
   "outputs": [
    {
     "name": "stdout",
     "output_type": "stream",
     "text": [
      "file_names: \n",
      " {'train': ['data_batch_1', 'data_batch_2', 'data_batch_3', 'data_batch_4'], 'validation': ['data_batch_5'], 'eval': ['test_batch']}\n",
      "files folder:  data/cifar10/cifar-10-batches-py\n"
     ]
    }
   ],
   "source": [
    "file_names = _get_file_names()\n",
    "print(\"file_names: \\n\", file_names)\n",
    "input_dir = os.path.join(data_dir, CIFAR_LOCAL_FOLDER)\n",
    "print(\"files folder: \", input_dir)"
   ]
  },
  {
   "cell_type": "markdown",
   "id": "549fb9aa",
   "metadata": {},
   "source": [
    "## 4. Pickle 파일을 읽어서 3 개의 TFRecord 파일 생성\n",
    "- 훈련\n",
    "    - input_files:  ['data/cifar10/cifar-10-batches-py/data_batch_1', 'data/cifar10/cifar-10-batches-py/data_batch_2', 'data/cifar10/cifar-10-batches-py/data_batch_3', 'data/cifar10/cifar-10-batches-py/data_batch_4']\n",
    "    - output_file:  data/cifar10/train/train.tfrecords\n",
    "- 검증    \n",
    "    - input_files:  ['data/cifar10/cifar-10-batches-py/data_batch_5']\n",
    "    - output_file:  data/cifar10/validation/validation.tfrecords\n",
    "- 테스트\n",
    "    - input_files:  ['data/cifar10/cifar-10-batches-py/test_batch']\n",
    "    - output_file:  data/cifar10/eval/eval.tfrecords\n",
    "\n",
    "\n",
    "- 아래 함수에 입력 파일, 출력 파일을 제공하여 최종 TF 레코드 파일을 생성\n",
    "    - convert_to_tfrecord(input_files, output_file)    "
   ]
  },
  {
   "cell_type": "code",
   "execution_count": 5,
   "id": "7e09166d",
   "metadata": {},
   "outputs": [
    {
     "name": "stdout",
     "output_type": "stream",
     "text": [
      "\n",
      "Mode:  train\n",
      "input_files:  ['data/cifar10/cifar-10-batches-py/data_batch_1', 'data/cifar10/cifar-10-batches-py/data_batch_2', 'data/cifar10/cifar-10-batches-py/data_batch_3', 'data/cifar10/cifar-10-batches-py/data_batch_4']\n",
      "output_file:  data/cifar10/train/train.tfrecords\n",
      "Generating data/cifar10/train/train.tfrecords\n",
      "num_entries_in_batch:  10000\n",
      "num_entries_in_batch:  10000\n",
      "num_entries_in_batch:  10000\n",
      "num_entries_in_batch:  10000\n",
      "\n",
      "Mode:  validation\n",
      "input_files:  ['data/cifar10/cifar-10-batches-py/data_batch_5']\n",
      "output_file:  data/cifar10/validation/validation.tfrecords\n",
      "Generating data/cifar10/validation/validation.tfrecords\n",
      "num_entries_in_batch:  10000\n",
      "\n",
      "Mode:  eval\n",
      "input_files:  ['data/cifar10/cifar-10-batches-py/test_batch']\n",
      "output_file:  data/cifar10/eval/eval.tfrecords\n",
      "Generating data/cifar10/eval/eval.tfrecords\n",
      "num_entries_in_batch:  10000\n"
     ]
    }
   ],
   "source": [
    "# 훈련, 검증, 테스트의 3번 반복 함.\n",
    "for mode, files in file_names.items(): \n",
    "    input_files = [os.path.join(input_dir, f) for f in files]\n",
    "    output_file = os.path.join(data_dir+'/'+mode, mode + '.tfrecords')\n",
    "\n",
    "    print(\"\\nMode: \", mode)\n",
    "    print(\"input_files: \", input_files)\n",
    "    print(\"output_file: \", output_file)    \n",
    "    \n",
    "    if not os.path.exists(data_dir+'/'+mode):\n",
    "        os.makedirs(data_dir+'/'+mode)\n",
    "    try:\n",
    "        os.remove(output_file)\n",
    "    except OSError:\n",
    "        pass\n",
    "    \n",
    "    # Convert to tf.train.Example and write the to TFRecords.\n",
    "    convert_to_tfrecord(input_files, output_file)\n"
   ]
  },
  {
   "cell_type": "code",
   "execution_count": null,
   "id": "841db1f2",
   "metadata": {},
   "outputs": [],
   "source": []
  }
 ],
 "metadata": {
  "kernelspec": {
   "display_name": "conda_tensorflow2_p36",
   "language": "python",
   "name": "conda_tensorflow2_p36"
  },
  "language_info": {
   "codemirror_mode": {
    "name": "ipython",
    "version": 3
   },
   "file_extension": ".py",
   "mimetype": "text/x-python",
   "name": "python",
   "nbconvert_exporter": "python",
   "pygments_lexer": "ipython3",
   "version": "3.6.13"
  }
 },
 "nbformat": 4,
 "nbformat_minor": 5
}
