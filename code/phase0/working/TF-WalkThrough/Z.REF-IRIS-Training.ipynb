{
 "cells": [
  {
   "cell_type": "markdown",
   "id": "c2350627",
   "metadata": {},
   "source": [
    "# IRIS: Custom training: walkthrough\n",
    "- https://www.tensorflow.org/tutorials/customization/custom_training_walkthrough \n",
    "\n"
   ]
  },
  {
   "cell_type": "markdown",
   "id": "16d2b116",
   "metadata": {},
   "source": [
    "# 0. 환경 셋업"
   ]
  },
  {
   "cell_type": "code",
   "execution_count": 2,
   "id": "b190ee03",
   "metadata": {},
   "outputs": [],
   "source": [
    "import os\n",
    "import matplotlib.pyplot as plt\n",
    "\n",
    "import tensorflow as tf"
   ]
  },
  {
   "cell_type": "code",
   "execution_count": 3,
   "id": "be8d8e5b",
   "metadata": {},
   "outputs": [
    {
     "name": "stdout",
     "output_type": "stream",
     "text": [
      "TensorFlow version: 2.1.3\n",
      "Eager execution: True\n"
     ]
    }
   ],
   "source": [
    "print(\"TensorFlow version: {}\".format(tf.__version__))\n",
    "print(\"Eager execution: {}\".format(tf.executing_eagerly()))"
   ]
  },
  {
   "cell_type": "markdown",
   "id": "662ac6aa",
   "metadata": {},
   "source": [
    "# 1. 데이터 준비"
   ]
  },
  {
   "cell_type": "code",
   "execution_count": 4,
   "id": "fd3d2987",
   "metadata": {},
   "outputs": [
    {
     "name": "stdout",
     "output_type": "stream",
     "text": [
      "Downloading data from https://storage.googleapis.com/download.tensorflow.org/data/iris_training.csv\n",
      "8192/2194 [================================================================================================================] - 0s 0us/step\n",
      "Local copy of the dataset file: /home/ec2-user/.keras/datasets/iris_training.csv\n"
     ]
    }
   ],
   "source": [
    "train_dataset_url = \"https://storage.googleapis.com/download.tensorflow.org/data/iris_training.csv\"\n",
    "\n",
    "train_dataset_fp = tf.keras.utils.get_file(fname=os.path.basename(train_dataset_url),\n",
    "                                           origin=train_dataset_url)\n",
    "\n",
    "print(\"Local copy of the dataset file: {}\".format(train_dataset_fp))"
   ]
  },
  {
   "cell_type": "code",
   "execution_count": 5,
   "id": "45ac9623",
   "metadata": {},
   "outputs": [
    {
     "data": {
      "text/plain": [
       "'/home/ec2-user/.keras/datasets/iris_training.csv'"
      ]
     },
     "execution_count": 5,
     "metadata": {},
     "output_type": "execute_result"
    }
   ],
   "source": [
    "train_dataset_fp"
   ]
  },
  {
   "cell_type": "code",
   "execution_count": 6,
   "id": "1e5e3ac7",
   "metadata": {},
   "outputs": [
    {
     "name": "stdout",
     "output_type": "stream",
     "text": [
      "Features: ['sepal_length', 'sepal_width', 'petal_length', 'petal_width']\n",
      "Label: species\n"
     ]
    }
   ],
   "source": [
    "# column order in CSV file\n",
    "column_names = ['sepal_length', 'sepal_width', 'petal_length', 'petal_width', 'species']\n",
    "\n",
    "feature_names = column_names[:-1]\n",
    "label_name = column_names[-1]\n",
    "\n",
    "print(\"Features: {}\".format(feature_names))\n",
    "print(\"Label: {}\".format(label_name))"
   ]
  },
  {
   "cell_type": "code",
   "execution_count": 7,
   "id": "576ee2ca",
   "metadata": {},
   "outputs": [],
   "source": [
    "class_names = ['Iris setosa', 'Iris versicolor', 'Iris virginica']"
   ]
  },
  {
   "cell_type": "code",
   "execution_count": 19,
   "id": "9805dd27",
   "metadata": {},
   "outputs": [],
   "source": [
    "batch_size =32\n",
    "\n",
    "train_dataset = tf.data.experimental.make_csv_dataset(\n",
    "    train_dataset_fp,\n",
    "    batch_size,\n",
    "    column_names = column_names,\n",
    "    label_name = label_name,\n",
    "    num_epochs=1\n",
    ")"
   ]
  },
  {
   "cell_type": "code",
   "execution_count": 24,
   "id": "a72e3f5c",
   "metadata": {},
   "outputs": [
    {
     "data": {
      "text/plain": [
       "<PrefetchDataset shapes: (OrderedDict([(sepal_length, (None,)), (sepal_width, (None,)), (petal_length, (None,)), (petal_width, (None,))]), (None,)), types: (OrderedDict([(sepal_length, tf.float32), (sepal_width, tf.float32), (petal_length, tf.float32), (petal_width, tf.float32)]), tf.int32)>"
      ]
     },
     "execution_count": 24,
     "metadata": {},
     "output_type": "execute_result"
    }
   ],
   "source": [
    "train_dataset"
   ]
  },
  {
   "cell_type": "code",
   "execution_count": 20,
   "id": "f481166f",
   "metadata": {},
   "outputs": [
    {
     "name": "stdout",
     "output_type": "stream",
     "text": [
      "OrderedDict([('sepal_length', <tf.Tensor: shape=(32,), dtype=float32, numpy=\n",
      "array([5.7, 5.9, 7.2, 6.7, 5. , 4.4, 7.3, 6.1, 6.4, 6.7, 5.7, 5.1, 5.4,\n",
      "       6.8, 6. , 6.5, 5. , 5.8, 4.8, 7. , 7.7, 7.7, 5.7, 5.6, 6.8, 5.8,\n",
      "       4.7, 4.8, 4.9, 6.3, 6.3, 7.4], dtype=float32)>), ('sepal_width', <tf.Tensor: shape=(32,), dtype=float32, numpy=\n",
      "array([2.8, 3.2, 3.2, 3.1, 3.5, 3.2, 2.9, 2.9, 2.7, 3.3, 2.8, 3.8, 3.9,\n",
      "       3. , 3. , 3. , 2. , 2.8, 3. , 3.2, 2.8, 3.8, 3.8, 2.7, 2.8, 2.7,\n",
      "       3.2, 3.4, 3.1, 3.4, 3.3, 2.8], dtype=float32)>), ('petal_length', <tf.Tensor: shape=(32,), dtype=float32, numpy=\n",
      "array([4.5, 4.8, 6. , 5.6, 1.6, 1.3, 6.3, 4.7, 5.3, 5.7, 4.1, 1.6, 1.3,\n",
      "       5.5, 4.8, 5.5, 3.5, 5.1, 1.4, 4.7, 6.7, 6.7, 1.7, 4.2, 4.8, 5.1,\n",
      "       1.6, 1.6, 1.5, 5.6, 6. , 6.1], dtype=float32)>), ('petal_width', <tf.Tensor: shape=(32,), dtype=float32, numpy=\n",
      "array([1.3, 1.8, 1.8, 2.4, 0.6, 0.2, 1.8, 1.4, 1.9, 2.1, 1.3, 0.2, 0.4,\n",
      "       2.1, 1.8, 1.8, 1. , 2.4, 0.3, 1.4, 2. , 2.2, 0.3, 1.3, 1.4, 1.9,\n",
      "       0.2, 0.2, 0.1, 2.4, 2.5, 1.9], dtype=float32)>)])\n"
     ]
    }
   ],
   "source": [
    "features, labels = next(iter(train_dataset))\n",
    "print(features)"
   ]
  },
  {
   "cell_type": "code",
   "execution_count": 21,
   "id": "fa849765",
   "metadata": {},
   "outputs": [
    {
     "name": "stdout",
     "output_type": "stream",
     "text": [
      "tf.Tensor([1 1 2 2 0 0 2 1 2 2 1 0 0 2 2 2 1 2 0 1 2 2 0 1 1 2 0 0 0 2 2 2], shape=(32,), dtype=int32)\n"
     ]
    }
   ],
   "source": [
    "print(labels)"
   ]
  },
  {
   "cell_type": "code",
   "execution_count": 23,
   "id": "8d679830",
   "metadata": {},
   "outputs": [
    {
     "data": {
      "text/plain": [
       "odict_values([<tf.Tensor: shape=(32,), dtype=float32, numpy=\n",
       "array([5.7, 5.9, 7.2, 6.7, 5. , 4.4, 7.3, 6.1, 6.4, 6.7, 5.7, 5.1, 5.4,\n",
       "       6.8, 6. , 6.5, 5. , 5.8, 4.8, 7. , 7.7, 7.7, 5.7, 5.6, 6.8, 5.8,\n",
       "       4.7, 4.8, 4.9, 6.3, 6.3, 7.4], dtype=float32)>, <tf.Tensor: shape=(32,), dtype=float32, numpy=\n",
       "array([2.8, 3.2, 3.2, 3.1, 3.5, 3.2, 2.9, 2.9, 2.7, 3.3, 2.8, 3.8, 3.9,\n",
       "       3. , 3. , 3. , 2. , 2.8, 3. , 3.2, 2.8, 3.8, 3.8, 2.7, 2.8, 2.7,\n",
       "       3.2, 3.4, 3.1, 3.4, 3.3, 2.8], dtype=float32)>, <tf.Tensor: shape=(32,), dtype=float32, numpy=\n",
       "array([4.5, 4.8, 6. , 5.6, 1.6, 1.3, 6.3, 4.7, 5.3, 5.7, 4.1, 1.6, 1.3,\n",
       "       5.5, 4.8, 5.5, 3.5, 5.1, 1.4, 4.7, 6.7, 6.7, 1.7, 4.2, 4.8, 5.1,\n",
       "       1.6, 1.6, 1.5, 5.6, 6. , 6.1], dtype=float32)>, <tf.Tensor: shape=(32,), dtype=float32, numpy=\n",
       "array([1.3, 1.8, 1.8, 2.4, 0.6, 0.2, 1.8, 1.4, 1.9, 2.1, 1.3, 0.2, 0.4,\n",
       "       2.1, 1.8, 1.8, 1. , 2.4, 0.3, 1.4, 2. , 2.2, 0.3, 1.3, 1.4, 1.9,\n",
       "       0.2, 0.2, 0.1, 2.4, 2.5, 1.9], dtype=float32)>])"
      ]
     },
     "execution_count": 23,
     "metadata": {},
     "output_type": "execute_result"
    }
   ],
   "source": [
    "features.values()"
   ]
  },
  {
   "cell_type": "code",
   "execution_count": 25,
   "id": "a0c33643",
   "metadata": {},
   "outputs": [],
   "source": [
    "def pack_features_vector(features, labels):\n",
    "    features = tf.stack(list(features.values()), axis=1)\n",
    "    return features, labels"
   ]
  },
  {
   "cell_type": "code",
   "execution_count": 26,
   "id": "a751892d",
   "metadata": {},
   "outputs": [
    {
     "data": {
      "text/plain": [
       "<MapDataset shapes: ((None, 4), (None,)), types: (tf.float32, tf.int32)>"
      ]
     },
     "execution_count": 26,
     "metadata": {},
     "output_type": "execute_result"
    }
   ],
   "source": [
    "train_dataset = train_dataset.map(pack_features_vector)\n",
    "train_dataset"
   ]
  },
  {
   "cell_type": "code",
   "execution_count": 27,
   "id": "8f9fc585",
   "metadata": {},
   "outputs": [
    {
     "name": "stdout",
     "output_type": "stream",
     "text": [
      "tf.Tensor(\n",
      "[[4.8 3.4 1.6 0.2]\n",
      " [6.3 2.7 4.9 1.8]\n",
      " [5.6 2.9 3.6 1.3]\n",
      " [5.2 3.4 1.4 0.2]\n",
      " [5.  3.  1.6 0.2]], shape=(5, 4), dtype=float32)\n"
     ]
    }
   ],
   "source": [
    "features, labels = next(iter(train_dataset))\n",
    "print(features[:5])"
   ]
  },
  {
   "cell_type": "markdown",
   "id": "8f61912a",
   "metadata": {},
   "source": [
    "# 2. 모델 정의"
   ]
  },
  {
   "cell_type": "code",
   "execution_count": 28,
   "id": "775a123a",
   "metadata": {},
   "outputs": [],
   "source": [
    "model = tf.keras.Sequential(\n",
    "[\n",
    "    tf.keras.layers.Dense(10, activation = tf.nn.relu, input_shape=(4,)),\n",
    "    tf.keras.layers.Dense(10, activation = tf.nn.relu),\n",
    "    tf.keras.layers.Dense(3)\n",
    "    \n",
    "]\n",
    ")"
   ]
  },
  {
   "cell_type": "code",
   "execution_count": 29,
   "id": "7b2c344a",
   "metadata": {},
   "outputs": [
    {
     "data": {
      "text/plain": [
       "<tf.Tensor: shape=(5, 3), dtype=float32, numpy=\n",
       "array([[ 0.687112  ,  1.0574087 , -0.5857722 ],\n",
       "       [ 1.3207401 ,  1.266968  , -0.07352187],\n",
       "       [ 1.048143  ,  1.2074633 , -0.16892944],\n",
       "       [ 0.5962111 ,  1.1039786 , -0.43161622],\n",
       "       [ 0.6405841 ,  1.1052797 , -0.2814343 ]], dtype=float32)>"
      ]
     },
     "execution_count": 29,
     "metadata": {},
     "output_type": "execute_result"
    }
   ],
   "source": [
    "predictions = model(features)\n",
    "predictions[:5]"
   ]
  },
  {
   "cell_type": "code",
   "execution_count": 30,
   "id": "e5f89607",
   "metadata": {},
   "outputs": [
    {
     "data": {
      "text/plain": [
       "<tf.Tensor: shape=(5, 3), dtype=float32, numpy=\n",
       "array([[0.36654377, 0.5308156 , 0.10264063],\n",
       "       [0.4554431 , 0.43159977, 0.11295718],\n",
       "       [0.40505356, 0.47501177, 0.11993463],\n",
       "       [0.3311959 , 0.5503077 , 0.11849642],\n",
       "       [0.33453262, 0.53241855, 0.1330488 ]], dtype=float32)>"
      ]
     },
     "execution_count": 30,
     "metadata": {},
     "output_type": "execute_result"
    }
   ],
   "source": [
    "tf.nn.softmax(predictions[:5])"
   ]
  },
  {
   "cell_type": "code",
   "execution_count": 31,
   "id": "cac45ece",
   "metadata": {},
   "outputs": [
    {
     "name": "stdout",
     "output_type": "stream",
     "text": [
      "Prediction: [1 0 1 1 1 0 0 0 1 0 1 0 1 0 1 0 1 1 0 1 1 0 0 1 0 0 1 0 0 0 1 0]\n",
      "    Labels: [0 2 1 0 0 2 2 1 0 1 1 2 0 2 2 2 0 0 1 1 0 2 2 0 2 2 0 2 2 2 0 2]\n"
     ]
    }
   ],
   "source": [
    "print(\"Prediction: {}\".format(tf.argmax(predictions, axis=1)))\n",
    "print(\"    Labels: {}\".format(labels))"
   ]
  },
  {
   "cell_type": "markdown",
   "id": "6befa29c",
   "metadata": {},
   "source": [
    "# 3. 모델 생성"
   ]
  },
  {
   "cell_type": "markdown",
   "id": "6efe8559",
   "metadata": {},
   "source": [
    "## Loss 오브젝트 정의"
   ]
  },
  {
   "cell_type": "code",
   "execution_count": 34,
   "id": "1ed6cbcd",
   "metadata": {},
   "outputs": [
    {
     "data": {
      "text/plain": [
       "<tensorflow.python.keras.losses.SparseCategoricalCrossentropy at 0x7fcbd0381828>"
      ]
     },
     "execution_count": 34,
     "metadata": {},
     "output_type": "execute_result"
    }
   ],
   "source": [
    "loss_object = tf.keras.losses.SparseCategoricalCrossentropy(from_logits=True)\n",
    "loss_object"
   ]
  },
  {
   "cell_type": "code",
   "execution_count": 35,
   "id": "1a496edc",
   "metadata": {},
   "outputs": [
    {
     "name": "stdout",
     "output_type": "stream",
     "text": [
      "Loss test: {} 1.6159218549728394\n"
     ]
    }
   ],
   "source": [
    "def loss(model, x, y, training):\n",
    "    y_ = model(x, training=training)\n",
    "    return loss_object(y_true=y, y_pred=y_)\n",
    "\n",
    "l = loss(model, features, labels, training=False)\n",
    "print(\"Loss test: {}\", format(l))"
   ]
  },
  {
   "cell_type": "markdown",
   "id": "f10482b5",
   "metadata": {},
   "source": [
    "## Gradient 생성 함수 정의"
   ]
  },
  {
   "cell_type": "code",
   "execution_count": 36,
   "id": "a8c70a3c",
   "metadata": {},
   "outputs": [],
   "source": [
    "def grad(model, inputs, targets):\n",
    "    with tf.GradientTape() as tape:\n",
    "        loss_value = loss(model, inputs, targets, training=True)\n",
    "        return loss_value, tape.gradient(loss_value, model.trainable_variables)"
   ]
  },
  {
   "cell_type": "code",
   "execution_count": 37,
   "id": "d874a43a",
   "metadata": {},
   "outputs": [],
   "source": [
    "optimizer = tf.keras.optimizers.SGD(learning_rate=0.01)"
   ]
  },
  {
   "cell_type": "code",
   "execution_count": 39,
   "id": "4a81478f",
   "metadata": {},
   "outputs": [
    {
     "name": "stdout",
     "output_type": "stream",
     "text": [
      "Step: 0, Initial_Loss: 1.6159218549728394\n",
      "Step: 1, Loss: 1.389014720916748\n"
     ]
    }
   ],
   "source": [
    "loss_value, grads = grad(model, features, labels)\n",
    "print(\"Step: {}, Initial_Loss: {}\".format(optimizer.iterations.numpy(), loss_value.numpy()))\n",
    "optimizer.apply_gradients(zip(grads, model.trainable_variables))\n",
    "print(\"Step: {}, Loss: {}\".format(optimizer.iterations.numpy(), \n",
    "                                 loss(model, features, labels, training=True).numpy()))"
   ]
  },
  {
   "cell_type": "markdown",
   "id": "e2af64bc",
   "metadata": {},
   "source": [
    "# 4. 모델 훈련"
   ]
  },
  {
   "cell_type": "code",
   "execution_count": 41,
   "id": "74429d18",
   "metadata": {},
   "outputs": [
    {
     "name": "stdout",
     "output_type": "stream",
     "text": [
      "Epoch 000 : Loss: 1.085\n",
      "Epoch 050 : Loss: 0.415\n",
      "Epoch 100 : Loss: 0.253\n",
      "Epoch 150 : Loss: 0.178\n",
      "Epoch 200 : Loss: 0.141\n"
     ]
    }
   ],
   "source": [
    "train_loss_results = []\n",
    "train_accuracy_results = []\n",
    "num_epochs = 201\n",
    "\n",
    "for epoch in range(num_epochs):\n",
    "    epoch_loss_avg = tf.keras.metrics.Mean()\n",
    "    epoch_accuracy = tf.keras.metrics.SparseCategoricalAccuracy()\n",
    "    \n",
    "    for x, y in train_dataset:\n",
    "        loss_value, grads = grad(model, x, y)\n",
    "        optimizer.apply_gradients(zip(grads, model.trainable_variables))\n",
    "        \n",
    "        epoch_loss_avg.update_state(loss_value)\n",
    "        epoch_accuracy.update_state(y, model(x, training=True))\n",
    "        \n",
    "    train_loss_results.append(epoch_loss_avg.result())\n",
    "    train_accuracy_results.append(epoch_accuracy.result())\n",
    "    \n",
    "    if epoch % 50 == 0:\n",
    "        print(\"Epoch {:03d} : Loss: {:.3f}\".format(epoch,\n",
    "                                                   epoch_loss_avg.result(),\n",
    "                                                   epoch_accuracy.result()\n",
    "                                                  ))"
   ]
  },
  {
   "cell_type": "code",
   "execution_count": 42,
   "id": "2ebed24c",
   "metadata": {},
   "outputs": [
    {
     "data": {
      "image/png": "[encoded data removed]",
      "text/plain": [
       "<Figure size 864x576 with 2 Axes>"
      ]
     },
     "metadata": {
      "needs_background": "light"
     },
     "output_type": "display_data"
    }
   ],
   "source": [
    "fig, axes = plt.subplots(2, sharex=True, figsize=(12, 8))\n",
    "fig.suptitle('Training Metrics')\n",
    "\n",
    "axes[0].set_ylabel(\"Loss\", fontsize=14)\n",
    "axes[0].plot(train_loss_results)\n",
    "\n",
    "axes[1].set_ylabel(\"Accuracy\", fontsize=14)\n",
    "axes[1].set_xlabel(\"Epoch\", fontsize=14)\n",
    "axes[1].plot(train_accuracy_results)\n",
    "plt.show()"
   ]
  },
  {
   "cell_type": "markdown",
   "id": "a939723b",
   "metadata": {},
   "source": [
    "# 5. 테스트 데이터 세트 준비"
   ]
  },
  {
   "cell_type": "code",
   "execution_count": 43,
   "id": "8d5f5765",
   "metadata": {},
   "outputs": [
    {
     "name": "stdout",
     "output_type": "stream",
     "text": [
      "Downloading data from https://storage.googleapis.com/download.tensorflow.org/data/iris_test.csv\n",
      "8192/573 [============================================================================================================================================================================================================================================================================================================================================================================================================================================] - 0s 0us/step\n"
     ]
    }
   ],
   "source": [
    "test_url = \"https://storage.googleapis.com/download.tensorflow.org/data/iris_test.csv\"\n",
    "\n",
    "test_fp = tf.keras.utils.get_file(fname=os.path.basename(test_url),\n",
    "                                  origin=test_url)"
   ]
  },
  {
   "cell_type": "code",
   "execution_count": 44,
   "id": "b808e120",
   "metadata": {},
   "outputs": [],
   "source": [
    "test_dataset = tf.data.experimental.make_csv_dataset(\n",
    "    test_fp,\n",
    "    batch_size,\n",
    "    column_names=column_names,\n",
    "    label_name='species',\n",
    "    num_epochs=1,\n",
    "    shuffle=False)\n",
    "\n",
    "test_dataset = test_dataset.map(pack_features_vector)"
   ]
  },
  {
   "cell_type": "markdown",
   "id": "d45cff83",
   "metadata": {},
   "source": [
    "# 6. 테스트 데이터 세트 추론"
   ]
  },
  {
   "cell_type": "code",
   "execution_count": 45,
   "id": "817696b2",
   "metadata": {},
   "outputs": [
    {
     "name": "stdout",
     "output_type": "stream",
     "text": [
      "Test set accuracy: 93.333%\n"
     ]
    }
   ],
   "source": [
    "test_accuracy = tf.keras.metrics.Accuracy()\n",
    "\n",
    "for (x, y) in test_dataset:\n",
    "  # training=False is needed only if there are layers with different\n",
    "  # behavior during training versus inference (e.g. Dropout).\n",
    "  logits = model(x, training=False)\n",
    "  prediction = tf.argmax(logits, axis=1, output_type=tf.int32)\n",
    "  test_accuracy(prediction, y)\n",
    "\n",
    "print(\"Test set accuracy: {:.3%}\".format(test_accuracy.result()))"
   ]
  },
  {
   "cell_type": "code",
   "execution_count": 46,
   "id": "a4278d8a",
   "metadata": {},
   "outputs": [
    {
     "data": {
      "text/plain": [
       "<tf.Tensor: shape=(30, 2), dtype=int32, numpy=\n",
       "array([[1, 1],\n",
       "       [2, 2],\n",
       "       [0, 0],\n",
       "       [1, 1],\n",
       "       [1, 1],\n",
       "       [1, 1],\n",
       "       [0, 0],\n",
       "       [2, 1],\n",
       "       [1, 1],\n",
       "       [2, 2],\n",
       "       [2, 2],\n",
       "       [0, 0],\n",
       "       [2, 2],\n",
       "       [1, 1],\n",
       "       [1, 1],\n",
       "       [0, 0],\n",
       "       [1, 1],\n",
       "       [0, 0],\n",
       "       [0, 0],\n",
       "       [2, 2],\n",
       "       [0, 0],\n",
       "       [1, 1],\n",
       "       [2, 2],\n",
       "       [1, 2],\n",
       "       [1, 1],\n",
       "       [1, 1],\n",
       "       [0, 0],\n",
       "       [1, 1],\n",
       "       [2, 2],\n",
       "       [1, 1]], dtype=int32)>"
      ]
     },
     "execution_count": 46,
     "metadata": {},
     "output_type": "execute_result"
    }
   ],
   "source": [
    "tf.stack([y,prediction],axis=1)"
   ]
  },
  {
   "cell_type": "markdown",
   "id": "f1257ad0",
   "metadata": {},
   "source": [
    "# 7. 임의 데이터 추론"
   ]
  },
  {
   "cell_type": "code",
   "execution_count": 47,
   "id": "54138175",
   "metadata": {},
   "outputs": [
    {
     "name": "stdout",
     "output_type": "stream",
     "text": [
      "Example 0 prediction: Iris setosa (98.3%)\n",
      "Example 1 prediction: Iris versicolor (93.1%)\n",
      "Example 2 prediction: Iris virginica (76.0%)\n"
     ]
    }
   ],
   "source": [
    "predict_dataset = tf.convert_to_tensor([\n",
    "    [5.1, 3.3, 1.7, 0.5,],\n",
    "    [5.9, 3.0, 4.2, 1.5,],\n",
    "    [6.9, 3.1, 5.4, 2.1]\n",
    "])\n",
    "\n",
    "# training=False is needed only if there are layers with different\n",
    "# behavior during training versus inference (e.g. Dropout).\n",
    "predictions = model(predict_dataset, training=False)\n",
    "\n",
    "for i, logits in enumerate(predictions):\n",
    "  class_idx = tf.argmax(logits).numpy()\n",
    "  p = tf.nn.softmax(logits)[class_idx]\n",
    "  name = class_names[class_idx]\n",
    "  print(\"Example {} prediction: {} ({:4.1f}%)\".format(i, name, 100*p))"
   ]
  },
  {
   "cell_type": "code",
   "execution_count": null,
   "id": "de437f6f",
   "metadata": {},
   "outputs": [],
   "source": []
  }
 ],
 "metadata": {
  "kernelspec": {
   "display_name": "conda_tensorflow2_p36",
   "language": "python",
   "name": "conda_tensorflow2_p36"
  },
  "language_info": {
   "codemirror_mode": {
    "name": "ipython",
    "version": 3
   },
   "file_extension": ".py",
   "mimetype": "text/x-python",
   "name": "python",
   "nbconvert_exporter": "python",
   "pygments_lexer": "ipython3",
   "version": "3.6.13"
  }
 },
 "nbformat": 4,
 "nbformat_minor": 5
}
