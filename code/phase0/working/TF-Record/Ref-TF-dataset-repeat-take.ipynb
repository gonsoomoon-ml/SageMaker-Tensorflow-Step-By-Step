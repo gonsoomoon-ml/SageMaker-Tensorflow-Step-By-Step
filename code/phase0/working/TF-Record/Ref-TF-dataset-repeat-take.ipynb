{
 "cells": [
  {
   "cell_type": "markdown",
   "id": "c3f7fd3d",
   "metadata": {},
   "source": [
    "# 텐서플로우 Dataset: repeat(), batch(), take()\n",
    "    - https://deep-deep-deep.tistory.com/27\n",
    "\n"
   ]
  },
  {
   "cell_type": "code",
   "execution_count": 3,
   "id": "62efde01",
   "metadata": {},
   "outputs": [],
   "source": [
    "import tensorflow as tf\n",
    "\n",
    "gpus = tf.config.experimental.list_physical_devices('GPU')\n",
    "if gpus:\n",
    "  # 텐서플로가 첫 번째 GPU만 사용하도록 제한\n",
    "  try:\n",
    "    tf.config.experimental.set_visible_devices(gpus[5], 'GPU')\n",
    "  except RuntimeError as e:\n",
    "    # 프로그램 시작시에 접근 가능한 장치가 설정되어야만 합니다\n",
    "    print(e)"
   ]
  },
  {
   "cell_type": "code",
   "execution_count": 4,
   "id": "2642666c",
   "metadata": {},
   "outputs": [
    {
     "name": "stdout",
     "output_type": "stream",
     "text": [
      "[0 1 2 3 4 5 6 7]\n",
      "[ 8  9 10 11 12 13 14 15]\n",
      "[16 17 18 19 20 21 22 23]\n",
      "[24  0  1  2  3  4  5  6]\n",
      "[ 7  8  9 10 11 12 13 14]\n",
      "[15 16 17 18 19 20 21 22]\n",
      "[23 24  0  1  2  3  4  5]\n",
      "[ 6  7  8  9 10 11 12 13]\n",
      "[14 15 16 17 18 19 20 21]\n",
      "[22 23 24  0  1  2  3  4]\n"
     ]
    }
   ],
   "source": [
    "\n",
    "\n",
    "def count(stop): \n",
    "    i = 0 \n",
    "    while i<stop: \n",
    "        yield i \n",
    "        i += 1 \n",
    "        \n",
    "ds_counter = tf.data.Dataset.from_generator(count, args=[25], output_types=tf.int32, output_shapes = (), ) \n",
    "for count_batch in ds_counter.repeat().batch(8).take(10): \n",
    "    print(count_batch.numpy())\n",
    "\n"
   ]
  },
  {
   "cell_type": "code",
   "execution_count": 8,
   "id": "6cff7ee0",
   "metadata": {},
   "outputs": [
    {
     "name": "stdout",
     "output_type": "stream",
     "text": [
      "0\n",
      "1\n",
      "2\n",
      "3\n",
      "4\n",
      "5\n",
      "6\n",
      "7\n",
      "8\n",
      "9\n",
      "10\n",
      "11\n",
      "12\n",
      "13\n",
      "14\n",
      "15\n",
      "16\n",
      "17\n",
      "18\n",
      "19\n",
      "20\n",
      "21\n",
      "22\n",
      "23\n",
      "24\n"
     ]
    }
   ],
   "source": [
    "for count_batch in ds_counter.repeat(1):\n",
    "    print(count_batch.numpy())\n"
   ]
  },
  {
   "cell_type": "code",
   "execution_count": 9,
   "id": "3e0d71f0",
   "metadata": {},
   "outputs": [
    {
     "name": "stdout",
     "output_type": "stream",
     "text": [
      "[0 1 2 3 4]\n",
      "[5 6 7 8 9]\n",
      "[10 11 12 13 14]\n",
      "[15 16 17 18 19]\n",
      "[20 21 22 23 24]\n"
     ]
    }
   ],
   "source": [
    "for count_batch in ds_counter.repeat(1).batch(5):\n",
    "    print(count_batch.numpy())\n",
    "\n"
   ]
  },
  {
   "cell_type": "code",
   "execution_count": 10,
   "id": "bdd74b45",
   "metadata": {},
   "outputs": [
    {
     "name": "stdout",
     "output_type": "stream",
     "text": [
      "[0 1 2 3 4]\n",
      "[5 6 7 8 9]\n"
     ]
    }
   ],
   "source": [
    "for count_batch in ds_counter.repeat(1).batch(5).take(2):\n",
    "    print(count_batch.numpy())"
   ]
  },
  {
   "cell_type": "code",
   "execution_count": 14,
   "id": "e9d64fbb",
   "metadata": {},
   "outputs": [
    {
     "name": "stdout",
     "output_type": "stream",
     "text": [
      "0\n",
      "1\n",
      "2\n",
      "3\n",
      "4\n",
      "5\n",
      "6\n",
      "7\n",
      "8\n",
      "9\n"
     ]
    }
   ],
   "source": [
    "for count_batch in ds_counter.repeat(1).take(10):\n",
    "    print(count_batch.numpy())\n"
   ]
  },
  {
   "cell_type": "code",
   "execution_count": 15,
   "id": "9d1109bd",
   "metadata": {},
   "outputs": [
    {
     "name": "stdout",
     "output_type": "stream",
     "text": [
      "[0 1]\n",
      "[2 3]\n",
      "[4 5]\n",
      "[6 7]\n",
      "[8 9]\n"
     ]
    }
   ],
   "source": [
    "for count_batch in ds_counter.repeat(1).take(10).batch(2):\n",
    "    print(count_batch.numpy())\n",
    "\n"
   ]
  },
  {
   "cell_type": "code",
   "execution_count": 22,
   "id": "764420b5",
   "metadata": {},
   "outputs": [
    {
     "name": "stdout",
     "output_type": "stream",
     "text": [
      "tf.Tensor(0, shape=(), dtype=int32)\n",
      "0\n",
      "tf.Tensor(1, shape=(), dtype=int32)\n",
      "1\n",
      "tf.Tensor(2, shape=(), dtype=int32)\n",
      "2\n",
      "tf.Tensor(3, shape=(), dtype=int32)\n",
      "3\n",
      "tf.Tensor(4, shape=(), dtype=int32)\n",
      "4\n",
      "tf.Tensor(5, shape=(), dtype=int32)\n",
      "5\n",
      "tf.Tensor(6, shape=(), dtype=int32)\n",
      "6\n",
      "tf.Tensor(7, shape=(), dtype=int32)\n",
      "7\n",
      "tf.Tensor(8, shape=(), dtype=int32)\n",
      "8\n",
      "tf.Tensor(9, shape=(), dtype=int32)\n",
      "9\n",
      "tf.Tensor(10, shape=(), dtype=int32)\n",
      "10\n",
      "tf.Tensor(11, shape=(), dtype=int32)\n",
      "11\n",
      "tf.Tensor(12, shape=(), dtype=int32)\n",
      "12\n",
      "tf.Tensor(13, shape=(), dtype=int32)\n",
      "13\n",
      "tf.Tensor(14, shape=(), dtype=int32)\n",
      "14\n",
      "tf.Tensor(15, shape=(), dtype=int32)\n",
      "15\n",
      "tf.Tensor(16, shape=(), dtype=int32)\n",
      "16\n",
      "tf.Tensor(17, shape=(), dtype=int32)\n",
      "17\n",
      "tf.Tensor(18, shape=(), dtype=int32)\n",
      "18\n",
      "tf.Tensor(19, shape=(), dtype=int32)\n",
      "19\n",
      "tf.Tensor(20, shape=(), dtype=int32)\n",
      "20\n",
      "tf.Tensor(21, shape=(), dtype=int32)\n",
      "21\n",
      "tf.Tensor(22, shape=(), dtype=int32)\n",
      "22\n",
      "tf.Tensor(23, shape=(), dtype=int32)\n",
      "23\n",
      "tf.Tensor(24, shape=(), dtype=int32)\n",
      "24\n"
     ]
    }
   ],
   "source": [
    "for i in ds_counter:\n",
    "    print(i)\n",
    "    print(i.numpy())"
   ]
  },
  {
   "cell_type": "code",
   "execution_count": null,
   "id": "2e913b86",
   "metadata": {},
   "outputs": [],
   "source": []
  }
 ],
 "metadata": {
  "kernelspec": {
   "display_name": "conda_tensorflow2_p36",
   "language": "python",
   "name": "conda_tensorflow2_p36"
  },
  "language_info": {
   "codemirror_mode": {
    "name": "ipython",
    "version": 3
   },
   "file_extension": ".py",
   "mimetype": "text/x-python",
   "name": "python",
   "nbconvert_exporter": "python",
   "pygments_lexer": "ipython3",
   "version": "3.6.13"
  }
 },
 "nbformat": 4,
 "nbformat_minor": 5
}
